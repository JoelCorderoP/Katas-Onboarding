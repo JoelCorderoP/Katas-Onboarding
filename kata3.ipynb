{
 "cells": [
  {
   "cell_type": "code",
   "execution_count": null,
   "metadata": {},
   "outputs": [],
   "source": [
    "vel_asteroide = 49\n",
    "if vel_asteroide > 25:\n",
    "    print(\"Advertencia, se acerca un asteoride\")\n",
    "else:\n",
    "    print(\"No hay nada que ver aqui\")\n",
    "\n",
    "\n"
   ]
  },
  {
   "cell_type": "code",
   "execution_count": null,
   "metadata": {},
   "outputs": [],
   "source": [
    "vel_asteroide = 19\n",
    "if vel_asteroide > 20:\n",
    "    print(\"Se puede ver un asteroide en el cielo.\")\n",
    "elif vel_asteroide == 20:\n",
    "    print(\"Se puede ver un asteroide en el cielo.\")\n",
    "else :\n",
    "    print(\"No hay nada que ver aqui\")"
   ]
  },
  {
   "cell_type": "code",
   "execution_count": null,
   "metadata": {},
   "outputs": [],
   "source": [
    "tam_asteroide = 50\n",
    "vel_asteoride = 40\n",
    "if vel_asteroide > 25 and tam_asteroide > 25 :\n",
    "    print(\"Adverencia, se aceca un asteroide peligroso\")\n",
    "elif vel_asteroide >= 20:\n",
    "    print(\"Se puede ver un asteroide en el cielo\")\n",
    "elif tam_asteroide < 25:\n",
    "    print(\"No hay nada que ver aqui\")\n",
    "else:\n",
    "    print(\"No hay nada que ver aqui\")\n"
   ]
  }
 ],
 "metadata": {
  "language_info": {
   "name": "python"
  },
  "orig_nbformat": 4
 },
 "nbformat": 4,
 "nbformat_minor": 2
}
