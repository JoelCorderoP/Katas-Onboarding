{
 "cells": [
  {
   "cell_type": "code",
   "execution_count": 1,
   "metadata": {},
   "outputs": [
    {
     "name": "stdout",
     "output_type": "stream",
     "text": [
      "Advertencia, se acerca un asteoride\n"
     ]
    }
   ],
   "source": [
    "vel_asteroide = 26\n",
    "if vel_asteroide > 25:\n",
    "    print(\"Advertencia, se acerca un asteoride\")\n",
    "else:\n",
    "    print(\"No hay nada que ver aqui\")\n",
    "\n",
    "\n"
   ]
  },
  {
   "cell_type": "code",
   "execution_count": 2,
   "metadata": {},
   "outputs": [
    {
     "name": "stdout",
     "output_type": "stream",
     "text": [
      "Se puede ver un asteroide en el cielo.\n"
     ]
    }
   ],
   "source": [
    "vel_asteroide = 21\n",
    "if vel_asteroide > 20:\n",
    "    print(\"Se puede ver un asteroide en el cielo.\")\n",
    "elif vel_asteroide == 20:\n",
    "    print(\"Se puede ver un asteroide en el cielo.\")\n",
    "else :\n",
    "    print(\"No hay nada que ver aqui\")"
   ]
  },
  {
   "cell_type": "code",
   "execution_count": 3,
   "metadata": {},
   "outputs": [
    {
     "name": "stdout",
     "output_type": "stream",
     "text": [
      "Se puede ver un asteroide en el cielo\n"
     ]
    }
   ],
   "source": [
    "tam_asteroide = 15\n",
    "vel_asteoride = 21\n",
    "if vel_asteroide > 25 and tam_asteroide > 25 :\n",
    "    print(\"Adverencia, se aceca un asteroide peligroso\")\n",
    "elif vel_asteroide >= 20:\n",
    "    print(\"Se puede ver un asteroide en el cielo\")\n",
    "elif tam_asteroide < 25:\n",
    "    print(\"No hay nada que ver aqui\")\n",
    "else:\n",
    "    print(\"No hay nada que ver aqui\")\n"
   ]
  }
 ],
 "metadata": {
  "interpreter": {
   "hash": "48362f8ba631fce3942fa65fdd8ad76f2ce88e059371b2bf840ef242fede70b5"
  },
  "kernelspec": {
   "display_name": "Python 3.10.2 64-bit",
   "language": "python",
   "name": "python3"
  },
  "language_info": {
   "codemirror_mode": {
    "name": "ipython",
    "version": 3
   },
   "file_extension": ".py",
   "mimetype": "text/x-python",
   "name": "python",
   "nbconvert_exporter": "python",
   "pygments_lexer": "ipython3",
   "version": "3.10.2"
  },
  "orig_nbformat": 4
 },
 "nbformat": 4,
 "nbformat_minor": 2
}
