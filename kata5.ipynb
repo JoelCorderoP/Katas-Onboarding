{
 "cells": [
  {
   "cell_type": "code",
   "execution_count": 1,
   "metadata": {},
   "outputs": [],
   "source": [
    "earth = 149597870\n",
    "jupiter = 778547200"
   ]
  },
  {
   "cell_type": "code",
   "execution_count": 3,
   "metadata": {},
   "outputs": [
    {
     "name": "stdout",
     "output_type": "stream",
     "text": [
      "Distance between Eatrh and Jupiter is: 628949330 Kilometers\n",
      "Distance between Eatrh and Jupiter is: 390577533.93 miles\n"
     ]
    }
   ],
   "source": [
    "distance = abs(jupiter - earth)\n",
    "print(\"Distance between Eatrh and Jupiter is: \" + str(distance) + \" Kilometers\")\n",
    "miles = distance * 0.621\n",
    "print(\"Distance between Eatrh and Jupiter is: \" + str(miles) + \" miles\")"
   ]
  },
  {
   "cell_type": "code",
   "execution_count": 6,
   "metadata": {},
   "outputs": [],
   "source": [
    "pl1i = input(\"Distance bewteen the sun and planet 1\")\n",
    "pl2i = input(\"Distance bewteen the sun and planet 2\")\n",
    "\n",
    "pl1 = int(pl1i)\n",
    "pl2 = int(pl2i)"
   ]
  },
  {
   "cell_type": "code",
   "execution_count": 7,
   "metadata": {},
   "outputs": [
    {
     "name": "stdout",
     "output_type": "stream",
     "text": [
      "Distance between both planets is : 91700000 kilometers, or 56945700.0 miles\n"
     ]
    }
   ],
   "source": [
    "kilometers = abs(pl1 - pl2)\n",
    "miles = kilometers * 0.621\n",
    "\n",
    "print(\"Distance between both planets is : \" + str(kilometers) +\" kilometers, or \" + str(miles) + \" miles\" )"
   ]
  }
 ],
 "metadata": {
  "interpreter": {
   "hash": "48362f8ba631fce3942fa65fdd8ad76f2ce88e059371b2bf840ef242fede70b5"
  },
  "kernelspec": {
   "display_name": "Python 3.10.2 64-bit",
   "language": "python",
   "name": "python3"
  },
  "language_info": {
   "codemirror_mode": {
    "name": "ipython",
    "version": 3
   },
   "file_extension": ".py",
   "mimetype": "text/x-python",
   "name": "python",
   "nbconvert_exporter": "python",
   "pygments_lexer": "ipython3",
   "version": "3.10.2"
  },
  "orig_nbformat": 4
 },
 "nbformat": 4,
 "nbformat_minor": 2
}
