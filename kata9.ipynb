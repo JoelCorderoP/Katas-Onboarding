{
 "cells": [
  {
   "cell_type": "code",
   "execution_count": 3,
   "metadata": {},
   "outputs": [],
   "source": [
    "def report(tank_1, tank_2, tank_3):\n",
    "    avg = (tank_1 + tank_2 + tank_3)/3\n",
    "    return f\"\"\"Tank usage status:\n",
    "    Tank 1: {tank_1}% \\t Tank 2: {tank_2}% \\t Tank 3: {tank_3}%\n",
    "    Average usage: {avg}% \n",
    "    \"\"\"\n"
   ]
  },
  {
   "cell_type": "code",
   "execution_count": 4,
   "metadata": {},
   "outputs": [
    {
     "name": "stdout",
     "output_type": "stream",
     "text": [
      "Tank usage status:\n",
      "    Tank 1: 21% \t Tank 2: 50% \t Tank 3: 77%\n",
      "    Average usage: 49.333333333333336% \n",
      "    \n"
     ]
    }
   ],
   "source": [
    "print(report(21, 50, 77))"
   ]
  },
  {
   "cell_type": "code",
   "execution_count": 5,
   "metadata": {},
   "outputs": [],
   "source": [
    "def average(tank_values):\n",
    "    total = sum(tank_values)\n",
    "    total_values = len(tank_values)\n",
    "    return total/total_values"
   ]
  },
  {
   "cell_type": "code",
   "execution_count": 8,
   "metadata": {},
   "outputs": [],
   "source": [
    "def report(t1, t2, t3):\n",
    "    return f\"\"\"Tank usage status:\n",
    "    Tank 1: {t1} % \\t Tank 2: {t2}% \\t Tank 3: {t3}%\n",
    "    Average usage : {average ([t1, t2, t3])}%\n",
    "    \"\"\" "
   ]
  },
  {
   "cell_type": "code",
   "execution_count": 9,
   "metadata": {},
   "outputs": [
    {
     "name": "stdout",
     "output_type": "stream",
     "text": [
      "Tank usage status:\n",
      "    Tank 1: 19 % \t Tank 2: 24% \t Tank 3: 55%\n",
      "    Average usage : 32.666666666666664%\n",
      "    \n"
     ]
    }
   ],
   "source": [
    "print(report(19,24,55))"
   ]
  }
 ],
 "metadata": {
  "interpreter": {
   "hash": "48362f8ba631fce3942fa65fdd8ad76f2ce88e059371b2bf840ef242fede70b5"
  },
  "kernelspec": {
   "display_name": "Python 3.10.2 64-bit",
   "language": "python",
   "name": "python3"
  },
  "language_info": {
   "codemirror_mode": {
    "name": "ipython",
    "version": 3
   },
   "file_extension": ".py",
   "mimetype": "text/x-python",
   "name": "python",
   "nbconvert_exporter": "python",
   "pygments_lexer": "ipython3",
   "version": "3.10.2"
  },
  "orig_nbformat": 4
 },
 "nbformat": 4,
 "nbformat_minor": 2
}
